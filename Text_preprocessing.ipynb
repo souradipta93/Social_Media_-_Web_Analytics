{
  "nbformat": 4,
  "nbformat_minor": 0,
  "metadata": {
    "kernelspec": {
      "display_name": "Python 3",
      "language": "python",
      "name": "python3"
    },
    "language_info": {
      "codemirror_mode": {
        "name": "ipython",
        "version": 3
      },
      "file_extension": ".py",
      "mimetype": "text/x-python",
      "name": "python",
      "nbconvert_exporter": "python",
      "pygments_lexer": "ipython3",
      "version": "3.7.3"
    },
    "colab": {
      "name": "text_preprocess_tweet.ipynb",
      "provenance": [],
      "include_colab_link": true
    }
  },
  "cells": [
    {
      "cell_type": "markdown",
      "metadata": {
        "id": "view-in-github",
        "colab_type": "text"
      },
      "source": [
        "<a href=\"https://colab.research.google.com/github/souradipta93/Social_Media_-_Web_Analytics/blob/main/Text_preprocessing.ipynb\" target=\"_parent\"><img src=\"https://colab.research.google.com/assets/colab-badge.svg\" alt=\"Open In Colab\"/></a>"
      ]
    },
    {
      "cell_type": "code",
      "metadata": {
        "id": "a3A_nP1VwE0i"
      },
      "source": [
        "import pandas as pd\n",
        "\n"
      ],
      "execution_count": 1,
      "outputs": []
    },
    {
      "cell_type": "code",
      "metadata": {
        "id": "080N41hzwE0l"
      },
      "source": [
        "data1 = pd.read_csv('tweets_covid.csv')"
      ],
      "execution_count": 2,
      "outputs": []
    },
    {
      "cell_type": "code",
      "metadata": {
        "colab": {
          "base_uri": "https://localhost:8080/"
        },
        "id": "5omNn_trwE0m",
        "outputId": "8383f708-c2c2-4d0f-e1ed-75a9bb009ed9"
      },
      "source": [
        "!pip install wordcloud"
      ],
      "execution_count": 3,
      "outputs": [
        {
          "output_type": "stream",
          "text": [
            "Requirement already satisfied: wordcloud in /usr/local/lib/python3.7/dist-packages (1.5.0)\n",
            "Requirement already satisfied: numpy>=1.6.1 in /usr/local/lib/python3.7/dist-packages (from wordcloud) (1.19.5)\n",
            "Requirement already satisfied: pillow in /usr/local/lib/python3.7/dist-packages (from wordcloud) (7.1.2)\n"
          ],
          "name": "stdout"
        }
      ]
    },
    {
      "cell_type": "code",
      "metadata": {
        "id": "HRkuNIYIwE0n"
      },
      "source": [
        "import seaborn"
      ],
      "execution_count": 4,
      "outputs": []
    },
    {
      "cell_type": "code",
      "metadata": {
        "colab": {
          "base_uri": "https://localhost:8080/"
        },
        "id": "SZnDr3aswE0n",
        "outputId": "b8a79570-6abf-4857-a275-2351a01372c9"
      },
      "source": [
        " data1['text'].head(20)"
      ],
      "execution_count": 5,
      "outputs": [
        {
          "output_type": "execute_result",
          "data": {
            "text/plain": [
              "0     People of the world.!!!!!! BREAKING!!!!!!!\\nDo...\n",
              "1     As if #COVID is not a big enough problem alrea...\n",
              "2     The cluster at entertainment venues in Bangkok...\n",
              "3     Thailand discovers 789 new cases of coronaviru...\n",
              "4     Provinces are introducing different measures t...\n",
              "5     Thailand discovers 405 new cases of coronaviru...\n",
              "6     Thailand discovers 559 new cases of coronaviru...\n",
              "7     Private hospitals given green light to acquire...\n",
              "8     COVID-19: Vegetable prices expected to soar as...\n",
              "9     Covid surge: PMO's top priority is to prevent ...\n",
              "10    India reports 1.45 Lakh new cases, active case...\n",
              "11    Researchers debunk COVID-19 vulnerability's al...\n",
              "12    Covid-19: Bahrain sets new rules to be effecti...\n",
              "13    Night curfew in Lucknow, Kanpur, Varanasi as C...\n",
              "14    Sarsanghachalak of Rashtriya Swayamsevak Sangh...\n",
              "15    #Maharashtra : #Covid claims mom’s life, but n...\n",
              "16    After assurance that their medical college wil...\n",
              "17    @AUThackeray @VarshaEGaikwad #cancelboardexams...\n",
              "18    @Vikashkumar277 @anjanaomkashyap @aajtak #canc...\n",
              "19    @anubha1812 @VarshaEGaikwad #cancelboardexams2...\n",
              "Name: text, dtype: object"
            ]
          },
          "metadata": {
            "tags": []
          },
          "execution_count": 5
        }
      ]
    },
    {
      "cell_type": "code",
      "metadata": {
        "colab": {
          "base_uri": "https://localhost:8080/"
        },
        "id": "_kO94p3iwE0o",
        "outputId": "649a6d23-3de7-4473-adc0-19b1bfefd145"
      },
      "source": [
        "data1.shape"
      ],
      "execution_count": 6,
      "outputs": [
        {
          "output_type": "execute_result",
          "data": {
            "text/plain": [
              "(17832, 90)"
            ]
          },
          "metadata": {
            "tags": []
          },
          "execution_count": 6
        }
      ]
    },
    {
      "cell_type": "code",
      "metadata": {
        "id": "U_rAUHwMwE0o"
      },
      "source": [
        "import nltk\n",
        "#nltk.download()"
      ],
      "execution_count": 7,
      "outputs": []
    },
    {
      "cell_type": "code",
      "metadata": {
        "colab": {
          "base_uri": "https://localhost:8080/",
          "height": 35
        },
        "id": "6P9a6PUtwE0p",
        "outputId": "f050caa1-fde3-421e-8b6b-213a95b07e6b"
      },
      "source": [
        "#Extract the first review\n",
        "tweet = data1['text'][12]\n",
        "tweet"
      ],
      "execution_count": 8,
      "outputs": [
        {
          "output_type": "execute_result",
          "data": {
            "application/vnd.google.colaboratory.intrinsic+json": {
              "type": "string"
            },
            "text/plain": [
              "'Covid-19: Bahrain sets new rules to be effective from Eid Al-Fitr #Bahrain #Covid-19updates https://t.co/0vfyNrzv2S'"
            ]
          },
          "metadata": {
            "tags": []
          },
          "execution_count": 8
        }
      ]
    },
    {
      "cell_type": "markdown",
      "metadata": {
        "id": "xgkSOFvRwE0p"
      },
      "source": [
        "# Text pre-processing examples"
      ]
    },
    {
      "cell_type": "code",
      "metadata": {
        "colab": {
          "base_uri": "https://localhost:8080/",
          "height": 35
        },
        "id": "xQlBf80JwE0q",
        "outputId": "edc1438d-eb77-4bff-b8ad-9f69a6b1a293"
      },
      "source": [
        "#convert to lowercase\n",
        "tweet = tweet.lower()\n",
        "tweet"
      ],
      "execution_count": 9,
      "outputs": [
        {
          "output_type": "execute_result",
          "data": {
            "application/vnd.google.colaboratory.intrinsic+json": {
              "type": "string"
            },
            "text/plain": [
              "'covid-19: bahrain sets new rules to be effective from eid al-fitr #bahrain #covid-19updates https://t.co/0vfynrzv2s'"
            ]
          },
          "metadata": {
            "tags": []
          },
          "execution_count": 9
        }
      ]
    },
    {
      "cell_type": "code",
      "metadata": {
        "colab": {
          "base_uri": "https://localhost:8080/",
          "height": 35
        },
        "id": "BE-D_4nCwE0q",
        "outputId": "7bf81052-6eb8-4cae-beb9-9656a34abfd7"
      },
      "source": [
        "#remove punctuation\n",
        "import re\n",
        "tweet = re.sub('[^a-zA-Z]', ' ', tweet)\n",
        "tweet"
      ],
      "execution_count": 10,
      "outputs": [
        {
          "output_type": "execute_result",
          "data": {
            "application/vnd.google.colaboratory.intrinsic+json": {
              "type": "string"
            },
            "text/plain": [
              "'covid     bahrain sets new rules to be effective from eid al fitr  bahrain  covid   updates https   t co  vfynrzv s'"
            ]
          },
          "metadata": {
            "tags": []
          },
          "execution_count": 10
        }
      ]
    },
    {
      "cell_type": "code",
      "metadata": {
        "colab": {
          "base_uri": "https://localhost:8080/"
        },
        "id": "jFNhB3qywE0r",
        "outputId": "bd853abd-7b22-494f-99de-fb3e9d35a70a"
      },
      "source": [
        "#convert words to tokens\n",
        "token_tweet=tweet.split(\" \")\n",
        "token_tweet"
      ],
      "execution_count": 11,
      "outputs": [
        {
          "output_type": "execute_result",
          "data": {
            "text/plain": [
              "['covid',\n",
              " '',\n",
              " '',\n",
              " '',\n",
              " '',\n",
              " 'bahrain',\n",
              " 'sets',\n",
              " 'new',\n",
              " 'rules',\n",
              " 'to',\n",
              " 'be',\n",
              " 'effective',\n",
              " 'from',\n",
              " 'eid',\n",
              " 'al',\n",
              " 'fitr',\n",
              " '',\n",
              " 'bahrain',\n",
              " '',\n",
              " 'covid',\n",
              " '',\n",
              " '',\n",
              " 'updates',\n",
              " 'https',\n",
              " '',\n",
              " '',\n",
              " 't',\n",
              " 'co',\n",
              " '',\n",
              " 'vfynrzv',\n",
              " 's']"
            ]
          },
          "metadata": {
            "tags": []
          },
          "execution_count": 11
        }
      ]
    },
    {
      "cell_type": "code",
      "metadata": {
        "colab": {
          "base_uri": "https://localhost:8080/"
        },
        "id": "U5sz7j2pwE0r",
        "outputId": "7731bcd5-66c8-47ad-cdb7-bd03686ed0c2"
      },
      "source": [
        "#remove stopwords\n",
        "import nltk\n",
        "nltk.download('stopwords')\n",
        "from nltk.corpus import stopwords\n",
        "stop_words = set(stopwords.words(\"english\"))"
      ],
      "execution_count": 14,
      "outputs": [
        {
          "output_type": "stream",
          "text": [
            "[nltk_data] Downloading package stopwords to /root/nltk_data...\n",
            "[nltk_data]   Package stopwords is already up-to-date!\n"
          ],
          "name": "stdout"
        }
      ]
    },
    {
      "cell_type": "code",
      "metadata": {
        "id": "MLm9djTEwE0r"
      },
      "source": [
        "#Adding custom stop words\n",
        "new_words=[]\n",
        "new_words = [\"some\",\"one\",\"like\",\"time\",\"br\",\"movie\",\"film\",\"could\",\"good\",'even', 'get', 'would',\n",
        "             'make', 'really', 'see', 'well', 'much', 'great', 'first', 'people', 'also', 'bad', \n",
        "             'show', 'way', 'thing', 'made', 'go', 'think', 'know', 'watch','look','many']\n",
        "stop_words = stop_words.union(new_words)"
      ],
      "execution_count": 15,
      "outputs": []
    },
    {
      "cell_type": "code",
      "metadata": {
        "colab": {
          "base_uri": "https://localhost:8080/"
        },
        "id": "cCcxHWSRwE0t",
        "outputId": "d2941551-679f-4d74-9b02-6812c621d474"
      },
      "source": [
        "#Removing stop words from a text\n",
        "token_tweet = [w for w in token_tweet if not w in stop_words]\n",
        "print(token_tweet[:20])"
      ],
      "execution_count": 16,
      "outputs": [
        {
          "output_type": "stream",
          "text": [
            "['covid', '', '', '', '', 'bahrain', 'sets', 'new', 'rules', 'effective', 'eid', 'al', 'fitr', '', 'bahrain', '', 'covid', '', '', 'updates']\n"
          ],
          "name": "stdout"
        }
      ]
    },
    {
      "cell_type": "code",
      "metadata": {
        "colab": {
          "base_uri": "https://localhost:8080/"
        },
        "id": "M4oLvzPjwE0t",
        "outputId": "e1d3fa1c-cb48-420b-9292-ab13c3b40c44"
      },
      "source": [
        "#Stemming words\n",
        "from nltk.stem.porter import PorterStemmer\n",
        "porter = PorterStemmer()\n",
        "stemmed = [porter.stem(word) for word in token_tweet]\n",
        "print(stemmed[:20])"
      ],
      "execution_count": 17,
      "outputs": [
        {
          "output_type": "stream",
          "text": [
            "['covid', '', '', '', '', 'bahrain', 'set', 'new', 'rule', 'effect', 'eid', 'al', 'fitr', '', 'bahrain', '', 'covid', '', '', 'updat']\n"
          ],
          "name": "stdout"
        }
      ]
    },
    {
      "cell_type": "code",
      "metadata": {
        "colab": {
          "base_uri": "https://localhost:8080/"
        },
        "id": "WzvanEAJwE0u",
        "outputId": "ea74f162-4f28-487d-c03a-671e767a81df"
      },
      "source": [
        "#Lemmatisation\n",
        "from nltk.stem.wordnet import WordNetLemmatizer \n",
        "nltk.download('wordnet')\n",
        "lm = WordNetLemmatizer() \n",
        "lm_review = [lm.lemmatize(word) for word in token_tweet]\n",
        "print(lm_review[:20])  "
      ],
      "execution_count": 20,
      "outputs": [
        {
          "output_type": "stream",
          "text": [
            "[nltk_data] Downloading package wordnet to /root/nltk_data...\n",
            "[nltk_data]   Package wordnet is already up-to-date!\n",
            "['covid', '', '', '', '', 'bahrain', 'set', 'new', 'rule', 'effective', 'eid', 'al', 'fitr', '', 'bahrain', '', 'covid', '', '', 'update']\n"
          ],
          "name": "stdout"
        }
      ]
    },
    {
      "cell_type": "markdown",
      "metadata": {
        "id": "W6S8hkohwE0u"
      },
      "source": [
        "## Perform text pre-processing in a loop for the whole corpus"
      ]
    },
    {
      "cell_type": "code",
      "metadata": {
        "id": "D-hu6Wh6wE0u"
      },
      "source": [
        "corpus = []\n",
        "for i in range(0, data1.shape[0]):\n",
        "    #Remove punctuations\n",
        "    text = re.sub('[^a-zA-Z]', ' ', data1['text'][i])\n",
        "    \n",
        "    #Convert to lowercase\n",
        "    text = text.lower()\n",
        "    ##Convert to list from string\n",
        "    text = text.split()\n",
        "    ##Lemmatizing\n",
        "    lm = WordNetLemmatizer() \n",
        "       \n",
        "    \n",
        "    text = [lm.lemmatize(word) for word in text if not word in stop_words] \n",
        "    text = \" \".join(text)\n",
        "    corpus.append(text)"
      ],
      "execution_count": 21,
      "outputs": []
    },
    {
      "cell_type": "code",
      "metadata": {
        "colab": {
          "base_uri": "https://localhost:8080/",
          "height": 0
        },
        "id": "XxrVgI2uwE0v",
        "outputId": "14af0e62-0dbd-4838-cec6-4d42e574e586"
      },
      "source": [
        "corpus[300]"
      ],
      "execution_count": 22,
      "outputs": [
        {
          "output_type": "execute_result",
          "data": {
            "application/vnd.google.colaboratory.intrinsic+json": {
              "type": "string"
            },
            "text/plain": [
              "'night curfew imposed noida pm till april amid worrying surge covid case follow live update http co eyst czbh'"
            ]
          },
          "metadata": {
            "tags": []
          },
          "execution_count": 22
        }
      ]
    },
    {
      "cell_type": "markdown",
      "metadata": {
        "id": "8TzXf5CcwE0v"
      },
      "source": [
        "## Creating the term document matrix - toy data"
      ]
    },
    {
      "cell_type": "code",
      "metadata": {
        "id": "wPt6FioMwE0v"
      },
      "source": [
        "from sklearn.feature_extraction.text import CountVectorizer\n",
        "import re"
      ],
      "execution_count": 23,
      "outputs": []
    },
    {
      "cell_type": "code",
      "metadata": {
        "id": "rsFcbJaVwE0w"
      },
      "source": [
        "#Lets understand count vectoriser\n",
        "cv = CountVectorizer()"
      ],
      "execution_count": 24,
      "outputs": []
    },
    {
      "cell_type": "code",
      "metadata": {
        "colab": {
          "base_uri": "https://localhost:8080/"
        },
        "id": "pkBGI2ZlwE0w",
        "outputId": "62d18a35-a945-406a-97d8-ac3d7b836d5e"
      },
      "source": [
        "#Use fit transform to transform a text corpus to a count vectoriser\n",
        "test_cv = cv.fit_transform([\"A wonderful production\", \n",
        "                            \"This was a wonderful way\", \n",
        "                            \"wonderful portrait about human relations\"])\n",
        "\n",
        "test_cv"
      ],
      "execution_count": 25,
      "outputs": [
        {
          "output_type": "execute_result",
          "data": {
            "text/plain": [
              "<3x9 sparse matrix of type '<class 'numpy.int64'>'\n",
              "\twith 11 stored elements in Compressed Sparse Row format>"
            ]
          },
          "metadata": {
            "tags": []
          },
          "execution_count": 25
        }
      ]
    },
    {
      "cell_type": "code",
      "metadata": {
        "colab": {
          "base_uri": "https://localhost:8080/"
        },
        "id": "974AIB0jwE0w",
        "outputId": "2293db7b-9118-4885-bd07-34859635e815"
      },
      "source": [
        "#View cv as an array\n",
        "count_vect_array = test_cv.toarray()\n",
        "count_vect_array"
      ],
      "execution_count": 26,
      "outputs": [
        {
          "output_type": "execute_result",
          "data": {
            "text/plain": [
              "array([[0, 0, 0, 1, 0, 0, 0, 0, 1],\n",
              "       [0, 0, 0, 0, 0, 1, 1, 1, 1],\n",
              "       [1, 1, 1, 0, 1, 0, 0, 0, 1]])"
            ]
          },
          "metadata": {
            "tags": []
          },
          "execution_count": 26
        }
      ]
    },
    {
      "cell_type": "code",
      "metadata": {
        "colab": {
          "base_uri": "https://localhost:8080/"
        },
        "id": "8BV6fP7bwE0x",
        "outputId": "6bd9ae97-3433-4c57-fea7-19bf303148d2"
      },
      "source": [
        "#Get the feature names of cv\n",
        "cv.get_feature_names()"
      ],
      "execution_count": 27,
      "outputs": [
        {
          "output_type": "execute_result",
          "data": {
            "text/plain": [
              "['about',\n",
              " 'human',\n",
              " 'portrait',\n",
              " 'production',\n",
              " 'relations',\n",
              " 'this',\n",
              " 'was',\n",
              " 'way',\n",
              " 'wonderful']"
            ]
          },
          "metadata": {
            "tags": []
          },
          "execution_count": 27
        }
      ]
    },
    {
      "cell_type": "code",
      "metadata": {
        "colab": {
          "base_uri": "https://localhost:8080/",
          "height": 0
        },
        "id": "XKtd4zUOwE0x",
        "outputId": "cdfe6c35-06f8-49ab-8520-c61ff610d4c9"
      },
      "source": [
        "### Convert to dataframe\n",
        "\n",
        "count_vect_df = pd.DataFrame(count_vect_array, columns=cv.get_feature_names())\n",
        "count_vect_df"
      ],
      "execution_count": 28,
      "outputs": [
        {
          "output_type": "execute_result",
          "data": {
            "text/html": [
              "<div>\n",
              "<style scoped>\n",
              "    .dataframe tbody tr th:only-of-type {\n",
              "        vertical-align: middle;\n",
              "    }\n",
              "\n",
              "    .dataframe tbody tr th {\n",
              "        vertical-align: top;\n",
              "    }\n",
              "\n",
              "    .dataframe thead th {\n",
              "        text-align: right;\n",
              "    }\n",
              "</style>\n",
              "<table border=\"1\" class=\"dataframe\">\n",
              "  <thead>\n",
              "    <tr style=\"text-align: right;\">\n",
              "      <th></th>\n",
              "      <th>about</th>\n",
              "      <th>human</th>\n",
              "      <th>portrait</th>\n",
              "      <th>production</th>\n",
              "      <th>relations</th>\n",
              "      <th>this</th>\n",
              "      <th>was</th>\n",
              "      <th>way</th>\n",
              "      <th>wonderful</th>\n",
              "    </tr>\n",
              "  </thead>\n",
              "  <tbody>\n",
              "    <tr>\n",
              "      <th>0</th>\n",
              "      <td>0</td>\n",
              "      <td>0</td>\n",
              "      <td>0</td>\n",
              "      <td>1</td>\n",
              "      <td>0</td>\n",
              "      <td>0</td>\n",
              "      <td>0</td>\n",
              "      <td>0</td>\n",
              "      <td>1</td>\n",
              "    </tr>\n",
              "    <tr>\n",
              "      <th>1</th>\n",
              "      <td>0</td>\n",
              "      <td>0</td>\n",
              "      <td>0</td>\n",
              "      <td>0</td>\n",
              "      <td>0</td>\n",
              "      <td>1</td>\n",
              "      <td>1</td>\n",
              "      <td>1</td>\n",
              "      <td>1</td>\n",
              "    </tr>\n",
              "    <tr>\n",
              "      <th>2</th>\n",
              "      <td>1</td>\n",
              "      <td>1</td>\n",
              "      <td>1</td>\n",
              "      <td>0</td>\n",
              "      <td>1</td>\n",
              "      <td>0</td>\n",
              "      <td>0</td>\n",
              "      <td>0</td>\n",
              "      <td>1</td>\n",
              "    </tr>\n",
              "  </tbody>\n",
              "</table>\n",
              "</div>"
            ],
            "text/plain": [
              "   about  human  portrait  production  relations  this  was  way  wonderful\n",
              "0      0      0         0           1          0     0    0    0          1\n",
              "1      0      0         0           0          0     1    1    1          1\n",
              "2      1      1         1           0          1     0    0    0          1"
            ]
          },
          "metadata": {
            "tags": []
          },
          "execution_count": 28
        }
      ]
    },
    {
      "cell_type": "code",
      "metadata": {
        "colab": {
          "base_uri": "https://localhost:8080/"
        },
        "id": "AwLFX492wE0x",
        "outputId": "3ba183b1-aebe-46d4-9439-c0f55168533c"
      },
      "source": [
        "#How to get the word frequency for each term in the vocabulary\n",
        "count_vect_df.sum(axis=0)"
      ],
      "execution_count": 29,
      "outputs": [
        {
          "output_type": "execute_result",
          "data": {
            "text/plain": [
              "about         1\n",
              "human         1\n",
              "portrait      1\n",
              "production    1\n",
              "relations     1\n",
              "this          1\n",
              "was           1\n",
              "way           1\n",
              "wonderful     3\n",
              "dtype: int64"
            ]
          },
          "metadata": {
            "tags": []
          },
          "execution_count": 29
        }
      ]
    },
    {
      "cell_type": "markdown",
      "metadata": {
        "id": "6oXZP3aNwE0y"
      },
      "source": [
        "# Create a vocabulary of words for the movie reviews"
      ]
    },
    {
      "cell_type": "code",
      "metadata": {
        "id": "GSaVgxNxwE0y"
      },
      "source": [
        "#ignore words that appear in 80% of documents, \n",
        "#eliminate stop words\n",
        "cv=CountVectorizer(max_df=0.7,\n",
        "                   stop_words=stop_words, \n",
        "                   ngram_range=(1,2), \n",
        "                   min_df=0.001)\n",
        "X=cv.fit_transform(corpus)\n",
        "vector = cv.transform(corpus)"
      ],
      "execution_count": 30,
      "outputs": []
    },
    {
      "cell_type": "code",
      "metadata": {
        "colab": {
          "base_uri": "https://localhost:8080/"
        },
        "id": "sN4btwLxwE0y",
        "outputId": "16702978-9339-4155-96b2-6f0e2d25b8f8"
      },
      "source": [
        "print(X.shape)"
      ],
      "execution_count": 31,
      "outputs": [
        {
          "output_type": "stream",
          "text": [
            "(17832, 3137)\n"
          ],
          "name": "stdout"
        }
      ]
    },
    {
      "cell_type": "code",
      "metadata": {
        "id": "m2rnX-FUwE0z"
      },
      "source": [
        "#cv.vocabulary_"
      ],
      "execution_count": 32,
      "outputs": []
    },
    {
      "cell_type": "markdown",
      "metadata": {
        "id": "YABia9aZwE0z"
      },
      "source": [
        "## Visualising frequently occuring words"
      ]
    },
    {
      "cell_type": "code",
      "metadata": {
        "id": "RYUTRauEwE0z"
      },
      "source": [
        "#Most frequently occuring words\n",
        "def get_top_n_words(corpus, n=None):\n",
        "    vec = CountVectorizer(stop_words=stop_words).fit(corpus)\n",
        "    bag_of_words = vec.transform(corpus)\n",
        "    sum_words = bag_of_words.sum(axis=0) \n",
        "    words_freq = [(word, sum_words[0, idx]) for word, idx in vec.vocabulary_.items()]\n",
        "    words_freq =sorted(words_freq, key = lambda x: x[1], reverse=True)\n",
        "    return words_freq[:n]"
      ],
      "execution_count": 33,
      "outputs": []
    },
    {
      "cell_type": "code",
      "metadata": {
        "id": "MaC8p_CcwE0z"
      },
      "source": [
        "#Convert most freq words to dataframe for plotting bar plot\n",
        "top_words = get_top_n_words(corpus, n=20)\n",
        "top_df = pd.DataFrame(top_words)\n",
        "top_df.columns=[\"Word\", \"Freq\"]"
      ],
      "execution_count": 34,
      "outputs": []
    },
    {
      "cell_type": "code",
      "metadata": {
        "colab": {
          "base_uri": "https://localhost:8080/",
          "height": 0
        },
        "id": "W9itKzMWwE00",
        "outputId": "c3834e8c-f5d6-4d70-abc4-6b1da0bce0d8"
      },
      "source": [
        "### This df used as a guideline to create custom stop words\n",
        "top_df.head(10)"
      ],
      "execution_count": 35,
      "outputs": [
        {
          "output_type": "execute_result",
          "data": {
            "text/html": [
              "<div>\n",
              "<style scoped>\n",
              "    .dataframe tbody tr th:only-of-type {\n",
              "        vertical-align: middle;\n",
              "    }\n",
              "\n",
              "    .dataframe tbody tr th {\n",
              "        vertical-align: top;\n",
              "    }\n",
              "\n",
              "    .dataframe thead th {\n",
              "        text-align: right;\n",
              "    }\n",
              "</style>\n",
              "<table border=\"1\" class=\"dataframe\">\n",
              "  <thead>\n",
              "    <tr style=\"text-align: right;\">\n",
              "      <th></th>\n",
              "      <th>Word</th>\n",
              "      <th>Freq</th>\n",
              "    </tr>\n",
              "  </thead>\n",
              "  <tbody>\n",
              "    <tr>\n",
              "      <th>0</th>\n",
              "      <td>covid</td>\n",
              "      <td>24638</td>\n",
              "    </tr>\n",
              "    <tr>\n",
              "      <th>1</th>\n",
              "      <td>co</td>\n",
              "      <td>16281</td>\n",
              "    </tr>\n",
              "    <tr>\n",
              "      <th>2</th>\n",
              "      <td>http</td>\n",
              "      <td>16215</td>\n",
              "    </tr>\n",
              "    <tr>\n",
              "      <th>3</th>\n",
              "      <td>vaccine</td>\n",
              "      <td>4048</td>\n",
              "    </tr>\n",
              "    <tr>\n",
              "      <th>4</th>\n",
              "      <td>amp</td>\n",
              "      <td>2463</td>\n",
              "    </tr>\n",
              "    <tr>\n",
              "      <th>5</th>\n",
              "      <td>coronavirus</td>\n",
              "      <td>1832</td>\n",
              "    </tr>\n",
              "    <tr>\n",
              "      <th>6</th>\n",
              "      <td>case</td>\n",
              "      <td>1707</td>\n",
              "    </tr>\n",
              "    <tr>\n",
              "      <th>7</th>\n",
              "      <td>pandemic</td>\n",
              "      <td>1508</td>\n",
              "    </tr>\n",
              "    <tr>\n",
              "      <th>8</th>\n",
              "      <td>new</td>\n",
              "      <td>1332</td>\n",
              "    </tr>\n",
              "    <tr>\n",
              "      <th>9</th>\n",
              "      <td>health</td>\n",
              "      <td>1328</td>\n",
              "    </tr>\n",
              "  </tbody>\n",
              "</table>\n",
              "</div>"
            ],
            "text/plain": [
              "          Word   Freq\n",
              "0        covid  24638\n",
              "1           co  16281\n",
              "2         http  16215\n",
              "3      vaccine   4048\n",
              "4          amp   2463\n",
              "5  coronavirus   1832\n",
              "6         case   1707\n",
              "7     pandemic   1508\n",
              "8          new   1332\n",
              "9       health   1328"
            ]
          },
          "metadata": {
            "tags": []
          },
          "execution_count": 35
        }
      ]
    },
    {
      "cell_type": "code",
      "metadata": {
        "colab": {
          "base_uri": "https://localhost:8080/",
          "height": 0
        },
        "id": "Mnp3Hm7-wE00",
        "outputId": "7c8ebd11-abcd-46f1-f69c-276075135526"
      },
      "source": [
        "#Barplot of most freq words\n",
        "import seaborn as sns\n",
        "import matplotlib.pyplot as plt\n",
        "sns.set(rc={'figure.figsize':(20,10)})\n",
        "sns.barplot(x=\"Word\", y=\"Freq\",data=top_df)\n",
        "plt.show()"
      ],
      "execution_count": 36,
      "outputs": [
        {
          "output_type": "display_data",
          "data": {
            "image/png": "[encoded data removed]",
            "text/plain": [
              "<Figure size 1440x720 with 1 Axes>"
            ]
          },
          "metadata": {
            "tags": []
          }
        }
      ]
    },
    {
      "cell_type": "code",
      "metadata": {
        "id": "CfIA2loAwE00"
      },
      "source": [
        "### Word cloud"
      ],
      "execution_count": 37,
      "outputs": []
    },
    {
      "cell_type": "code",
      "metadata": {
        "id": "q5P-C6PnwE00"
      },
      "source": [
        "#Visualise using word cloud\n",
        "from wordcloud import WordCloud, STOPWORDS, ImageColorGenerator\n",
        "\n",
        "import matplotlib.pyplot as plt\n",
        "%matplotlib inline\n",
        "\n"
      ],
      "execution_count": 38,
      "outputs": []
    },
    {
      "cell_type": "code",
      "metadata": {
        "colab": {
          "base_uri": "https://localhost:8080/",
          "height": 0
        },
        "id": "7gaDeAMqwE01",
        "outputId": "ccc01334-445d-4d2b-dec7-24ea9220cdf6"
      },
      "source": [
        "# Create and generate a word cloud image:\n",
        "wordcloud = WordCloud(\n",
        "                          background_color='black',\n",
        "                          colormap=\"Reds\",\n",
        "                          stopwords=stop_words,\n",
        "                          max_words=50,\n",
        "                          max_font_size=50, \n",
        "                          random_state=42,\n",
        "                          ).generate(str(corpus))\n",
        "\n",
        "print(wordcloud)\n",
        "fig = plt.figure(1)\n",
        "plt.imshow(wordcloud)\n",
        "plt.axis('off')\n",
        "plt.show()\n",
        "fig.savefig(\"word1.png\", dpi=900)"
      ],
      "execution_count": 39,
      "outputs": [
        {
          "output_type": "stream",
          "text": [
            "<wordcloud.wordcloud.WordCloud object at 0x7fa04f895950>\n"
          ],
          "name": "stdout"
        },
        {
          "output_type": "display_data",
          "data": {
            "image/png": "[encoded data removed]",
            "text/plain": [
              "<Figure size 432x288 with 1 Axes>"
            ]
          },
          "metadata": {
            "tags": [],
            "needs_background": "light"
          }
        }
      ]
    },
    {
      "cell_type": "code",
      "metadata": {
        "colab": {
          "base_uri": "https://localhost:8080/"
        },
        "id": "0BHH_qLQwE02",
        "outputId": "1d335443-8777-4836-f4a9-43af6a4cfc8f"
      },
      "source": [
        "#Most frequently occuring Bi-grams\n",
        "def get_top_n2_words(corpus, n=None):\n",
        "    vec1 = CountVectorizer(ngram_range=(2,2), max_features=2000).fit(corpus)\n",
        "    bag_of_words = vec1.transform(corpus)\n",
        "    sum_words = bag_of_words.sum(axis=0) \n",
        "    words_freq = [(word, sum_words[0, idx]) for word, idx in     vec1.vocabulary_.items()]\n",
        "    words_freq =sorted(words_freq, key = lambda x: x[1], reverse=True)\n",
        "    return words_freq[:n]\n",
        "\n",
        "top2_words = get_top_n2_words(corpus, n=10)\n",
        "top2_df = pd.DataFrame(top2_words)\n",
        "top2_df.columns=[\"Bi-gram\", \"Freq\"]\n",
        "print(top2_df)"
      ],
      "execution_count": 40,
      "outputs": [
        {
          "output_type": "stream",
          "text": [
            "             Bi-gram   Freq\n",
            "0            http co  16209\n",
            "1        covid covid   2134\n",
            "2      covid vaccine   1903\n",
            "3         covid http   1662\n",
            "4         covid case    774\n",
            "5     covid pandemic    601\n",
            "6  covid coronavirus    578\n",
            "7  coronavirus covid    526\n",
            "8  covid vaccination    509\n",
            "9       vaccine http    362\n"
          ],
          "name": "stdout"
        }
      ]
    },
    {
      "cell_type": "markdown",
      "metadata": {
        "id": "LRSpiy3QwE03"
      },
      "source": [
        "# What are the challenges with Document Frequency Matrix"
      ]
    },
    {
      "cell_type": "markdown",
      "metadata": {
        "id": "Pn78MH-xwE03"
      },
      "source": [
        "## TF IDF Vectorizer"
      ]
    },
    {
      "cell_type": "code",
      "metadata": {
        "id": "_7GGqStywE04"
      },
      "source": [
        "from sklearn.feature_extraction.text import TfidfVectorizer\n",
        "\n",
        "#Lets understand count vectoriser\n",
        "tf = TfidfVectorizer()"
      ],
      "execution_count": 41,
      "outputs": []
    },
    {
      "cell_type": "code",
      "metadata": {
        "id": "Bm16dyUmwE05"
      },
      "source": [
        "#Use fir transform to transform a text corpus to a count vectoriser\n",
        "test_tf = tf.fit_transform([\"A wonderful production\", \n",
        "                            \"This was a wonderful way\", \n",
        "                            \"wonderful portrait about human relations\"])"
      ],
      "execution_count": 42,
      "outputs": []
    },
    {
      "cell_type": "code",
      "metadata": {
        "colab": {
          "base_uri": "https://localhost:8080/"
        },
        "id": "MnIMPWPVwE05",
        "outputId": "02d4ac1d-f845-4285-f8a4-eb272dc8dac1"
      },
      "source": [
        "#View cv as an array\n",
        "tf_array = test_tf.toarray()\n",
        "tf_array"
      ],
      "execution_count": 43,
      "outputs": [
        {
          "output_type": "execute_result",
          "data": {
            "text/plain": [
              "array([[0.        , 0.        , 0.        , 0.861037  , 0.        ,\n",
              "        0.        , 0.        , 0.        , 0.50854232],\n",
              "       [0.        , 0.        , 0.        , 0.        , 0.        ,\n",
              "        0.54645401, 0.54645401, 0.54645401, 0.32274454],\n",
              "       [0.47952794, 0.47952794, 0.47952794, 0.        , 0.47952794,\n",
              "        0.        , 0.        , 0.        , 0.28321692]])"
            ]
          },
          "metadata": {
            "tags": []
          },
          "execution_count": 43
        }
      ]
    },
    {
      "cell_type": "code",
      "metadata": {
        "colab": {
          "base_uri": "https://localhost:8080/",
          "height": 0
        },
        "id": "wkJHv0bQwE06",
        "outputId": "ef4062fc-15b4-457d-cc22-735ba9abfb41"
      },
      "source": [
        "#Get the feature names of cv\n",
        "tf.get_feature_names()\n",
        "\n",
        "tf_df = pd.DataFrame(tf_array,columns=tf.get_feature_names() )\n",
        "tf_df"
      ],
      "execution_count": 44,
      "outputs": [
        {
          "output_type": "execute_result",
          "data": {
            "text/html": [
              "<div>\n",
              "<style scoped>\n",
              "    .dataframe tbody tr th:only-of-type {\n",
              "        vertical-align: middle;\n",
              "    }\n",
              "\n",
              "    .dataframe tbody tr th {\n",
              "        vertical-align: top;\n",
              "    }\n",
              "\n",
              "    .dataframe thead th {\n",
              "        text-align: right;\n",
              "    }\n",
              "</style>\n",
              "<table border=\"1\" class=\"dataframe\">\n",
              "  <thead>\n",
              "    <tr style=\"text-align: right;\">\n",
              "      <th></th>\n",
              "      <th>about</th>\n",
              "      <th>human</th>\n",
              "      <th>portrait</th>\n",
              "      <th>production</th>\n",
              "      <th>relations</th>\n",
              "      <th>this</th>\n",
              "      <th>was</th>\n",
              "      <th>way</th>\n",
              "      <th>wonderful</th>\n",
              "    </tr>\n",
              "  </thead>\n",
              "  <tbody>\n",
              "    <tr>\n",
              "      <th>0</th>\n",
              "      <td>0.000000</td>\n",
              "      <td>0.000000</td>\n",
              "      <td>0.000000</td>\n",
              "      <td>0.861037</td>\n",
              "      <td>0.000000</td>\n",
              "      <td>0.000000</td>\n",
              "      <td>0.000000</td>\n",
              "      <td>0.000000</td>\n",
              "      <td>0.508542</td>\n",
              "    </tr>\n",
              "    <tr>\n",
              "      <th>1</th>\n",
              "      <td>0.000000</td>\n",
              "      <td>0.000000</td>\n",
              "      <td>0.000000</td>\n",
              "      <td>0.000000</td>\n",
              "      <td>0.000000</td>\n",
              "      <td>0.546454</td>\n",
              "      <td>0.546454</td>\n",
              "      <td>0.546454</td>\n",
              "      <td>0.322745</td>\n",
              "    </tr>\n",
              "    <tr>\n",
              "      <th>2</th>\n",
              "      <td>0.479528</td>\n",
              "      <td>0.479528</td>\n",
              "      <td>0.479528</td>\n",
              "      <td>0.000000</td>\n",
              "      <td>0.479528</td>\n",
              "      <td>0.000000</td>\n",
              "      <td>0.000000</td>\n",
              "      <td>0.000000</td>\n",
              "      <td>0.283217</td>\n",
              "    </tr>\n",
              "  </tbody>\n",
              "</table>\n",
              "</div>"
            ],
            "text/plain": [
              "      about     human  portrait  ...       was       way  wonderful\n",
              "0  0.000000  0.000000  0.000000  ...  0.000000  0.000000   0.508542\n",
              "1  0.000000  0.000000  0.000000  ...  0.546454  0.546454   0.322745\n",
              "2  0.479528  0.479528  0.479528  ...  0.000000  0.000000   0.283217\n",
              "\n",
              "[3 rows x 9 columns]"
            ]
          },
          "metadata": {
            "tags": []
          },
          "execution_count": 44
        }
      ]
    },
    {
      "cell_type": "markdown",
      "metadata": {
        "id": "z1bQU8YVwE07"
      },
      "source": [
        "## Let us compare this with the dataframe from count vectoriser"
      ]
    },
    {
      "cell_type": "code",
      "metadata": {
        "colab": {
          "base_uri": "https://localhost:8080/",
          "height": 0
        },
        "id": "UaexGGrvwE07",
        "outputId": "3f54d6e4-c2d6-492b-da7c-7075cc277666"
      },
      "source": [
        "\n",
        "count_vect_df"
      ],
      "execution_count": 45,
      "outputs": [
        {
          "output_type": "execute_result",
          "data": {
            "text/html": [
              "<div>\n",
              "<style scoped>\n",
              "    .dataframe tbody tr th:only-of-type {\n",
              "        vertical-align: middle;\n",
              "    }\n",
              "\n",
              "    .dataframe tbody tr th {\n",
              "        vertical-align: top;\n",
              "    }\n",
              "\n",
              "    .dataframe thead th {\n",
              "        text-align: right;\n",
              "    }\n",
              "</style>\n",
              "<table border=\"1\" class=\"dataframe\">\n",
              "  <thead>\n",
              "    <tr style=\"text-align: right;\">\n",
              "      <th></th>\n",
              "      <th>about</th>\n",
              "      <th>human</th>\n",
              "      <th>portrait</th>\n",
              "      <th>production</th>\n",
              "      <th>relations</th>\n",
              "      <th>this</th>\n",
              "      <th>was</th>\n",
              "      <th>way</th>\n",
              "      <th>wonderful</th>\n",
              "    </tr>\n",
              "  </thead>\n",
              "  <tbody>\n",
              "    <tr>\n",
              "      <th>0</th>\n",
              "      <td>0</td>\n",
              "      <td>0</td>\n",
              "      <td>0</td>\n",
              "      <td>1</td>\n",
              "      <td>0</td>\n",
              "      <td>0</td>\n",
              "      <td>0</td>\n",
              "      <td>0</td>\n",
              "      <td>1</td>\n",
              "    </tr>\n",
              "    <tr>\n",
              "      <th>1</th>\n",
              "      <td>0</td>\n",
              "      <td>0</td>\n",
              "      <td>0</td>\n",
              "      <td>0</td>\n",
              "      <td>0</td>\n",
              "      <td>1</td>\n",
              "      <td>1</td>\n",
              "      <td>1</td>\n",
              "      <td>1</td>\n",
              "    </tr>\n",
              "    <tr>\n",
              "      <th>2</th>\n",
              "      <td>1</td>\n",
              "      <td>1</td>\n",
              "      <td>1</td>\n",
              "      <td>0</td>\n",
              "      <td>1</td>\n",
              "      <td>0</td>\n",
              "      <td>0</td>\n",
              "      <td>0</td>\n",
              "      <td>1</td>\n",
              "    </tr>\n",
              "  </tbody>\n",
              "</table>\n",
              "</div>"
            ],
            "text/plain": [
              "   about  human  portrait  production  relations  this  was  way  wonderful\n",
              "0      0      0         0           1          0     0    0    0          1\n",
              "1      0      0         0           0          0     1    1    1          1\n",
              "2      1      1         1           0          1     0    0    0          1"
            ]
          },
          "metadata": {
            "tags": []
          },
          "execution_count": 45
        }
      ]
    },
    {
      "cell_type": "markdown",
      "metadata": {
        "id": "LTHoWlUcwE08"
      },
      "source": [
        "## TF IDF Vectorizer"
      ]
    },
    {
      "cell_type": "code",
      "metadata": {
        "id": "jw2HWpx9wE08"
      },
      "source": [
        "from sklearn.feature_extraction.text import TfidfVectorizer\n",
        "\n",
        "#Lets understand count vectoriser\n",
        "tf = TfidfVectorizer()"
      ],
      "execution_count": 46,
      "outputs": []
    },
    {
      "cell_type": "code",
      "metadata": {
        "id": "aGR7skWTwE09"
      },
      "source": [
        "#Use fir transform to transform a text corpus to a count vectoriser\n",
        "test_tf = tf.fit_transform([\"A wonderful production\", \n",
        "                            \"This was a wonderful way\", \n",
        "                            \"wonderful portrait about human relations\"])"
      ],
      "execution_count": 47,
      "outputs": []
    },
    {
      "cell_type": "code",
      "metadata": {
        "colab": {
          "base_uri": "https://localhost:8080/"
        },
        "id": "wkIIusLpwE0-",
        "outputId": "d2751e88-326f-4aab-ce20-926d56fd2b10"
      },
      "source": [
        "#View cv as an array\n",
        "tf_array = test_tf.toarray()\n",
        "tf_array"
      ],
      "execution_count": 48,
      "outputs": [
        {
          "output_type": "execute_result",
          "data": {
            "text/plain": [
              "array([[0.        , 0.        , 0.        , 0.861037  , 0.        ,\n",
              "        0.        , 0.        , 0.        , 0.50854232],\n",
              "       [0.        , 0.        , 0.        , 0.        , 0.        ,\n",
              "        0.54645401, 0.54645401, 0.54645401, 0.32274454],\n",
              "       [0.47952794, 0.47952794, 0.47952794, 0.        , 0.47952794,\n",
              "        0.        , 0.        , 0.        , 0.28321692]])"
            ]
          },
          "metadata": {
            "tags": []
          },
          "execution_count": 48
        }
      ]
    },
    {
      "cell_type": "code",
      "metadata": {
        "colab": {
          "base_uri": "https://localhost:8080/",
          "height": 0
        },
        "id": "sdRQPx0YwE0-",
        "outputId": "99931053-7b72-44e6-ac83-f37e829baf08"
      },
      "source": [
        "#Get the feature names of cv\n",
        "tf.get_feature_names()\n",
        "\n",
        "tf_df = pd.DataFrame(tf_array,columns=tf.get_feature_names() )\n",
        "tf_df"
      ],
      "execution_count": 49,
      "outputs": [
        {
          "output_type": "execute_result",
          "data": {
            "text/html": [
              "<div>\n",
              "<style scoped>\n",
              "    .dataframe tbody tr th:only-of-type {\n",
              "        vertical-align: middle;\n",
              "    }\n",
              "\n",
              "    .dataframe tbody tr th {\n",
              "        vertical-align: top;\n",
              "    }\n",
              "\n",
              "    .dataframe thead th {\n",
              "        text-align: right;\n",
              "    }\n",
              "</style>\n",
              "<table border=\"1\" class=\"dataframe\">\n",
              "  <thead>\n",
              "    <tr style=\"text-align: right;\">\n",
              "      <th></th>\n",
              "      <th>about</th>\n",
              "      <th>human</th>\n",
              "      <th>portrait</th>\n",
              "      <th>production</th>\n",
              "      <th>relations</th>\n",
              "      <th>this</th>\n",
              "      <th>was</th>\n",
              "      <th>way</th>\n",
              "      <th>wonderful</th>\n",
              "    </tr>\n",
              "  </thead>\n",
              "  <tbody>\n",
              "    <tr>\n",
              "      <th>0</th>\n",
              "      <td>0.000000</td>\n",
              "      <td>0.000000</td>\n",
              "      <td>0.000000</td>\n",
              "      <td>0.861037</td>\n",
              "      <td>0.000000</td>\n",
              "      <td>0.000000</td>\n",
              "      <td>0.000000</td>\n",
              "      <td>0.000000</td>\n",
              "      <td>0.508542</td>\n",
              "    </tr>\n",
              "    <tr>\n",
              "      <th>1</th>\n",
              "      <td>0.000000</td>\n",
              "      <td>0.000000</td>\n",
              "      <td>0.000000</td>\n",
              "      <td>0.000000</td>\n",
              "      <td>0.000000</td>\n",
              "      <td>0.546454</td>\n",
              "      <td>0.546454</td>\n",
              "      <td>0.546454</td>\n",
              "      <td>0.322745</td>\n",
              "    </tr>\n",
              "    <tr>\n",
              "      <th>2</th>\n",
              "      <td>0.479528</td>\n",
              "      <td>0.479528</td>\n",
              "      <td>0.479528</td>\n",
              "      <td>0.000000</td>\n",
              "      <td>0.479528</td>\n",
              "      <td>0.000000</td>\n",
              "      <td>0.000000</td>\n",
              "      <td>0.000000</td>\n",
              "      <td>0.283217</td>\n",
              "    </tr>\n",
              "  </tbody>\n",
              "</table>\n",
              "</div>"
            ],
            "text/plain": [
              "      about     human  portrait  ...       was       way  wonderful\n",
              "0  0.000000  0.000000  0.000000  ...  0.000000  0.000000   0.508542\n",
              "1  0.000000  0.000000  0.000000  ...  0.546454  0.546454   0.322745\n",
              "2  0.479528  0.479528  0.479528  ...  0.000000  0.000000   0.283217\n",
              "\n",
              "[3 rows x 9 columns]"
            ]
          },
          "metadata": {
            "tags": []
          },
          "execution_count": 49
        }
      ]
    },
    {
      "cell_type": "markdown",
      "metadata": {
        "id": "0W10dMqvwE0-"
      },
      "source": [
        "## Let us compare this with the dataframe from count vectoriser"
      ]
    },
    {
      "cell_type": "code",
      "metadata": {
        "colab": {
          "base_uri": "https://localhost:8080/",
          "height": 136
        },
        "id": "3zc1widTwE0_",
        "outputId": "2258bf2b-77bf-4ec5-9a67-ea07f1ed63bc"
      },
      "source": [
        "\n",
        "count_vect_df"
      ],
      "execution_count": 50,
      "outputs": [
        {
          "output_type": "execute_result",
          "data": {
            "text/html": [
              "<div>\n",
              "<style scoped>\n",
              "    .dataframe tbody tr th:only-of-type {\n",
              "        vertical-align: middle;\n",
              "    }\n",
              "\n",
              "    .dataframe tbody tr th {\n",
              "        vertical-align: top;\n",
              "    }\n",
              "\n",
              "    .dataframe thead th {\n",
              "        text-align: right;\n",
              "    }\n",
              "</style>\n",
              "<table border=\"1\" class=\"dataframe\">\n",
              "  <thead>\n",
              "    <tr style=\"text-align: right;\">\n",
              "      <th></th>\n",
              "      <th>about</th>\n",
              "      <th>human</th>\n",
              "      <th>portrait</th>\n",
              "      <th>production</th>\n",
              "      <th>relations</th>\n",
              "      <th>this</th>\n",
              "      <th>was</th>\n",
              "      <th>way</th>\n",
              "      <th>wonderful</th>\n",
              "    </tr>\n",
              "  </thead>\n",
              "  <tbody>\n",
              "    <tr>\n",
              "      <th>0</th>\n",
              "      <td>0</td>\n",
              "      <td>0</td>\n",
              "      <td>0</td>\n",
              "      <td>1</td>\n",
              "      <td>0</td>\n",
              "      <td>0</td>\n",
              "      <td>0</td>\n",
              "      <td>0</td>\n",
              "      <td>1</td>\n",
              "    </tr>\n",
              "    <tr>\n",
              "      <th>1</th>\n",
              "      <td>0</td>\n",
              "      <td>0</td>\n",
              "      <td>0</td>\n",
              "      <td>0</td>\n",
              "      <td>0</td>\n",
              "      <td>1</td>\n",
              "      <td>1</td>\n",
              "      <td>1</td>\n",
              "      <td>1</td>\n",
              "    </tr>\n",
              "    <tr>\n",
              "      <th>2</th>\n",
              "      <td>1</td>\n",
              "      <td>1</td>\n",
              "      <td>1</td>\n",
              "      <td>0</td>\n",
              "      <td>1</td>\n",
              "      <td>0</td>\n",
              "      <td>0</td>\n",
              "      <td>0</td>\n",
              "      <td>1</td>\n",
              "    </tr>\n",
              "  </tbody>\n",
              "</table>\n",
              "</div>"
            ],
            "text/plain": [
              "   about  human  portrait  production  relations  this  was  way  wonderful\n",
              "0      0      0         0           1          0     0    0    0          1\n",
              "1      0      0         0           0          0     1    1    1          1\n",
              "2      1      1         1           0          1     0    0    0          1"
            ]
          },
          "metadata": {
            "tags": []
          },
          "execution_count": 50
        }
      ]
    },
    {
      "cell_type": "code",
      "metadata": {
        "id": "79OXap95wE0_"
      },
      "source": [
        "## Applying tf-idf vectoriser to the corpus\n",
        "\n",
        "from sklearn.feature_extraction.text import TfidfVectorizer\n",
        "# Fit the tf-idf model\n",
        "tfv = TfidfVectorizer(stop_words=stop_words, ngram_range=(1,2), min_df = 0.0001)"
      ],
      "execution_count": 51,
      "outputs": []
    },
    {
      "cell_type": "code",
      "metadata": {
        "id": "lP1g73z1wE0_"
      },
      "source": [
        "# tokenize and build vocab\n",
        "tfmat = tfv.fit_transform(corpus)"
      ],
      "execution_count": 52,
      "outputs": []
    },
    {
      "cell_type": "code",
      "metadata": {
        "id": "U-gnrD73wE0_"
      },
      "source": [
        "feature_names=tfv.get_feature_names()\n",
        "#feature_names[:10]"
      ],
      "execution_count": 53,
      "outputs": []
    },
    {
      "cell_type": "code",
      "metadata": {
        "colab": {
          "base_uri": "https://localhost:8080/"
        },
        "id": "PJ_wikFywE1A",
        "outputId": "76427fd0-51b7-426f-f6e5-a2a5ee898eda"
      },
      "source": [
        "len(feature_names)"
      ],
      "execution_count": 54,
      "outputs": [
        {
          "output_type": "execute_result",
          "data": {
            "text/plain": [
              "47458"
            ]
          },
          "metadata": {
            "tags": []
          },
          "execution_count": 54
        }
      ]
    },
    {
      "cell_type": "code",
      "metadata": {
        "id": "Ek-H-WIbwE1A"
      },
      "source": [
        "#Remove sparsity\n",
        "dense = tfmat.todense()"
      ],
      "execution_count": 55,
      "outputs": []
    },
    {
      "cell_type": "code",
      "metadata": {
        "id": "DYP39PAEwE1A"
      },
      "source": [
        "#Convert the matrix to a list\n",
        "corpus1 = dense[0].tolist()[0]"
      ],
      "execution_count": 56,
      "outputs": []
    },
    {
      "cell_type": "code",
      "metadata": {
        "id": "ycJO6PLAwE1B"
      },
      "source": [
        "#Create a list of feature number and tf idf score - using pair iteration in list\n",
        "phrase_scores = [pair for pair in zip(range(0, len(corpus1)), corpus1) if pair[1] > 0]"
      ],
      "execution_count": 57,
      "outputs": []
    },
    {
      "cell_type": "code",
      "metadata": {
        "colab": {
          "base_uri": "https://localhost:8080/"
        },
        "id": "ObHMnibZwE1B",
        "outputId": "effc6677-5b6d-4557-bb08-f7f89c25c3d5"
      },
      "source": [
        "len(phrase_scores)"
      ],
      "execution_count": 58,
      "outputs": [
        {
          "output_type": "execute_result",
          "data": {
            "text/plain": [
              "27"
            ]
          },
          "metadata": {
            "tags": []
          },
          "execution_count": 58
        }
      ]
    },
    {
      "cell_type": "code",
      "metadata": {
        "colab": {
          "base_uri": "https://localhost:8080/"
        },
        "id": "0MQdoOtnwE1B",
        "outputId": "990b9d82-5a5c-432b-e809-26f7fd5f91db"
      },
      "source": [
        "#First 10 items of the list\n",
        "phrase_scores[:10]"
      ],
      "execution_count": 59,
      "outputs": [
        {
          "output_type": "execute_result",
          "data": {
            "text/plain": [
              "[(4682, 0.10479474190794776),\n",
              " (7185, 0.024291255517147524),\n",
              " (7700, 0.18019319613673387),\n",
              " (9663, 0.0185985459507457),\n",
              " (11210, 0.06147875816027104),\n",
              " (11860, 0.7207727845469355),\n",
              " (20977, 0.02430684321794281),\n",
              " (20978, 0.024309678749730564),\n",
              " (22524, 0.11984747519050074),\n",
              " (23831, 0.1329799171654886)]"
            ]
          },
          "metadata": {
            "tags": []
          },
          "execution_count": 59
        }
      ]
    },
    {
      "cell_type": "code",
      "metadata": {
        "colab": {
          "base_uri": "https://localhost:8080/"
        },
        "id": "DxI6InCDwE1C",
        "outputId": "6c89a3ab-03d4-4da5-fd95-24bb655ae0c5"
      },
      "source": [
        "#Sort by second item in list - -1 for descending order\n",
        "sorted_phrase_scores = sorted(phrase_scores, key=lambda t: t[1] * -1)\n",
        "\n",
        "sorted_phrase_scores[:10]"
      ],
      "execution_count": 60,
      "outputs": [
        {
          "output_type": "execute_result",
          "data": {
            "text/plain": [
              "[(11860, 0.7207727845469355),\n",
              " (24063, 0.24775312712905057),\n",
              " (7700, 0.18019319613673387),\n",
              " (24071, 0.18019319613673387),\n",
              " (28453, 0.18019319613673387),\n",
              " (29504, 0.18019319613673387),\n",
              " (44345, 0.18019319613673387),\n",
              " (44458, 0.18019319613673387),\n",
              " (34241, 0.15976404203736302),\n",
              " (30399, 0.15292604625229417)]"
            ]
          },
          "metadata": {
            "tags": []
          },
          "execution_count": 60
        }
      ]
    },
    {
      "cell_type": "code",
      "metadata": {
        "colab": {
          "base_uri": "https://localhost:8080/",
          "height": 35
        },
        "id": "INSvp2yLwE1C",
        "outputId": "a5e9437e-bed1-48b1-cd06-249046eed6a9"
      },
      "source": [
        "feature_names[18365]"
      ],
      "execution_count": 63,
      "outputs": [
        {
          "output_type": "execute_result",
          "data": {
            "application/vnd.google.colaboratory.intrinsic+json": {
              "type": "string"
            },
            "text/plain": [
              "'give others'"
            ]
          },
          "metadata": {
            "tags": []
          },
          "execution_count": 63
        }
      ]
    },
    {
      "cell_type": "code",
      "metadata": {
        "colab": {
          "base_uri": "https://localhost:8080/"
        },
        "id": "td9HAhbgwE1C",
        "outputId": "277ed7d0-128b-412e-dc8f-71249e416046"
      },
      "source": [
        "#Get word instead of word id with score\n",
        "for phrase, score in [(feature_names[word_id], score) \n",
        "                      for (word_id, score) in sorted_phrase_scores][:20]:\n",
        "   print('{0: <20} {1}'.format(phrase, score))"
      ],
      "execution_count": 64,
      "outputs": [
        {
          "output_type": "stream",
          "text": [
            "cuban                0.7207727845469355\n",
            "lab                  0.24775312712905057\n",
            "co ntt               0.18019319613673387\n",
            "lab test             0.18019319613673387\n",
            "ndq                  0.18019319613673387\n",
            "ntt                  0.18019319613673387\n",
            "vaccine passed       0.18019319613673387\n",
            "vaccine tested       0.18019319613673387\n",
            "rat                  0.15976404203736302\n",
            "ordinary             0.15292604625229417\n",
            "vaccine              0.1520765621947658\n",
            "ux                   0.14793756544065279\n",
            "killed               0.1329799171654886\n",
            "vaccine vaccine      0.1324968921529233\n",
            "passed               0.13156692750658502\n",
            "thousand             0.12215884311747399\n",
            "international        0.11984747519050074\n",
            "breaking             0.10479474190794776\n",
            "tested               0.10154826887249298\n",
            "world                0.08476394694065027\n"
          ],
          "name": "stdout"
        }
      ]
    },
    {
      "cell_type": "code",
      "metadata": {
        "id": "M5xt5ThxwE1D"
      },
      "source": [
        ""
      ],
      "execution_count": 64,
      "outputs": []
    }
  ]
}